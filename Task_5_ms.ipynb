{
 "cells": [
  {
   "cell_type": "code",
   "execution_count": 1,
   "metadata": {},
   "outputs": [],
   "source": [
    "import math\n",
    "import random as rd\n",
    "import numpy as np\n",
    "from scipy.integrate import quad\n",
    "from matplotlib import pyplot as plt\n",
    "%matplotlib inline"
   ]
  },
  {
   "cell_type": "code",
   "execution_count": 2,
   "metadata": {},
   "outputs": [
    {
     "name": "stdout",
     "output_type": "stream",
     "text": [
      "[1.142622735411052, 1.0223998442465323, 1.191643045325158, 1.0227537031171177, 1.016908627766659, 1.3231514064803898, 1.328026257385336, 1.0654014512416983, 1.0434477502172033, 1.136717780646222, 1.0219523072593346, 1.28990155178308, 1.0236204890766858, 1.1725741695202567, 1.0491961674652788, 1.091544012669205, 1.0139633176501157, 1.053409394611531, 1.0053286730694955, 1.0495283207711756, 1.0461698878977566, 1.202253834010257, 1.064003158388943, 1.0952952433229732, 1.138784782794256, 1.1441872577606629, 1.1044803164728747, 1.0029810849085485, 1.046839855780362, 1.0837576226780785, 1.0857450975418597, 1.049838482143493, 1.1507383452183446, 1.1323757485751635, 1.0369678896265049, 1.0661098026001168, 1.069941964541934, 1.232039913990713, 1.0366518260870408, 1.0363892715274425, 1.1719753970788591, 1.0238324759764177, 1.1740381256649937, 1.0765425278263014, 1.0187018242010113, 1.0060846277000408, 1.1624712551445966, 1.2351224732281276, 1.2506000300729387, 1.0456570401120049, 1.0359677563331837, 1.0335362620417612, 1.2873227877088256, 1.121845319328477, 1.2394960275101676, 1.1930851199528125, 1.0128290197217542, 1.0536997061286784, 1.463164689641847, 1.0268209281555756, 1.2166427207345596, 1.0255761139728017, 1.0245462345475107, 1.1604190895506106, 1.002650537179527, 1.1382779811289114, 1.030081578167435, 1.053821097128551, 1.0178566030535152, 1.0028761475844348, 1.1050966800921616, 1.0174386991346565, 1.3965263607960536, 1.0703618562721948, 1.1104727163524826, 1.1012158446106983, 1.0789123461706929, 1.1959365584466184, 1.319642253454355, 1.020556068281815, 1.07396275401287, 1.0338349056634815, 1.0774245299119403, 1.0168854403588505, 1.0110723324160151, 1.1524311296887726, 1.0313497241201006, 1.357532774859939, 1.235543447913526, 1.1177633819327968, 1.2834198704799062, 1.1005184680672522, 1.0269777856972222, 1.1900286076417936, 1.176524768558298, 1.0827024058457777, 1.028399345724392, 1.1472263015977688, 1.03084043503009, 1.0103054539949283]\n"
     ]
    }
   ],
   "source": [
    "N = 100\n",
    "theta = 10\n",
    "xn = [rd.paretovariate(theta) for i in range(N)]\n",
    "print(xn)"
   ]
  },
  {
   "cell_type": "code",
   "execution_count": 3,
   "metadata": {},
   "outputs": [],
   "source": [
    "med = (xn[49] + xn[50])/2"
   ]
  },
  {
   "cell_type": "code",
   "execution_count": 4,
   "metadata": {},
   "outputs": [
    {
     "name": "stdout",
     "output_type": "stream",
     "text": [
      "ОМП: 11.125613966003725\n",
      "\n",
      "Асимптотический доверительный интервал:\n",
      "9.140993628666994 < theta < 13.110234303340455\n"
     ]
    }
   ],
   "source": [
    "t1, t2 = -1.96, 1.96\n",
    "theta1 = 1 + N/sum([math.log(xn[i]) for i in range(N)])\n",
    "border1_asympt = theta1 - t2 * (theta1 - 1)/ (N)**0.5\n",
    "border2_asympt = theta1 - t1 * (theta1 - 1)/ (N)**0.5\n",
    "print(f'ОМП: {theta1}\\n')\n",
    "print(f'Асимптотический доверительный интервал:\\n\\\n",
    "{border1_asympt} < theta < {border2_asympt}')"
   ]
  },
  {
   "cell_type": "code",
   "execution_count": 5,
   "metadata": {},
   "outputs": [
    {
     "name": "stdout",
     "output_type": "stream",
     "text": [
      "Bootstrap доверительный интервал медианы:\n",
      "0.8250347893840968 < med < 1.0659345811287184\n",
      "\n",
      "Непараметрический bootstrap доверительный интервал:\n",
      "9.139832812049255 < theta < 12.516572918521137\n"
     ]
    }
   ],
   "source": [
    "deltas = []\n",
    "medas = []\n",
    "for i in range(1000):\n",
    "    xn_sub = np.random.choice(xn, N) \n",
    "    theta_ = 1 + N/sum([math.log(xn_sub[i]) for i in range(N)]) #омп\n",
    "    deltas.append(theta_ - theta1)\n",
    "    med_ = (xn_sub[49] + xn_sub[50])/2\n",
    "    medas.append(med_ - med)\n",
    "deltas.sort()\n",
    "medas.sort()\n",
    "print(f'Bootstrap доверительный интервал медианы:\\n{med - medas[974]} < med < {med - medas[24]}\\n')\n",
    "border1_nonparam = theta1 - deltas[974]\n",
    "border2_nonparam = theta1 - deltas[24]\n",
    "print(f'Непараметрический bootstrap доверительный интервал:\\n{border1_nonparam} < theta < {border2_nonparam}')"
   ]
  },
  {
   "cell_type": "code",
   "execution_count": 6,
   "metadata": {},
   "outputs": [
    {
     "name": "stdout",
     "output_type": "stream",
     "text": [
      "Параметрический bootstrap доверительный интервал:\n",
      "9.62676153750093 < theta < 13.119711739450665\n",
      "\n"
     ]
    }
   ],
   "source": [
    "thetas = []\n",
    "N_boot2=50000\n",
    "for i in range(N_boot2):\n",
    "    xn_sub = np.random.choice(xn, N) \n",
    "    theta_ast = 1 + N/sum([math.log(xn_sub[i]) for i in range(N)]) \n",
    "    thetas.append(theta_ast)\n",
    "\n",
    "thetas.sort()\n",
    "k1 = round((1-0.95)/2*N_boot2)\n",
    "k2 = round((1+0.95)/2*N_boot2)\n",
    "\n",
    "border1_param = thetas[k1-1]\n",
    "border2_param = thetas[k2-1]\n",
    "print(f'Параметрический bootstrap доверительный интервал:\\n{border1_param} < theta < {border2_param}\\n')"
   ]
  },
  {
   "cell_type": "code",
   "execution_count": 7,
   "metadata": {},
   "outputs": [
    {
     "data": {
      "text/plain": [
       "<matplotlib.legend.Legend at 0x231e18ea4c0>"
      ]
     },
     "execution_count": 7,
     "metadata": {},
     "output_type": "execute_result"
    },
    {
     "data": {
      "image/png": "[encoded data removed]",
      "text/plain": [
       "<Figure size 432x288 with 1 Axes>"
      ]
     },
     "metadata": {
      "needs_background": "light"
     },
     "output_type": "display_data"
    }
   ],
   "source": [
    "asympt = np.linspace(border1_asympt, border2_asympt, 200)\n",
    "plt.plot(asympt, 2*np.ones_like(asympt),color='black', label='Асимптотический')\n",
    "\n",
    "boot = np.linspace(border1_nonparam, border2_nonparam, 200)\n",
    "plt.plot(boot, 3*np.ones_like(boot), label='Непарам. bootstrap')\n",
    "\n",
    "precise = np.linspace(border1_param, border2_param, 200)\n",
    "plt.plot(precise, 4*np.ones_like(precise), label='Парам. bootstrap')\n",
    "\n",
    "plt.plot([theta, theta],[1, 7], label=\"theta\")\n",
    "plt.xlim(5, 15)\n",
    "plt.ylim(1, 6)\n",
    "plt.title(\"сравнение интервалов\")\n",
    "plt.legend()"
   ]
  },
  {
   "cell_type": "code",
   "execution_count": null,
   "metadata": {},
   "outputs": [],
   "source": []
  }
 ],
 "metadata": {
  "kernelspec": {
   "display_name": "Python 3 (ipykernel)",
   "language": "python",
   "name": "python3"
  },
  "language_info": {
   "codemirror_mode": {
    "name": "ipython",
    "version": 3
   },
   "file_extension": ".py",
   "mimetype": "text/x-python",
   "name": "python",
   "nbconvert_exporter": "python",
   "pygments_lexer": "ipython3",
   "version": "3.9.12"
  }
 },
 "nbformat": 4,
 "nbformat_minor": 4
}
