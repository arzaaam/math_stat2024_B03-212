{
 "cells": [
  {
   "cell_type": "code",
   "execution_count": 6,
   "id": "14c5d404",
   "metadata": {},
   "outputs": [],
   "source": [
    "import numpy as np\n",
    "import matplotlib.pyplot as plt\n",
    "import plotly\n",
    "import plotly.graph_objs as go\n",
    "import plotly.express as px\n",
    "from plotly.subplots import make_subplots # Подключаем нужные библиотеки"
   ]
  },
  {
   "cell_type": "code",
   "execution_count": 8,
   "id": "6937281c",
   "metadata": {},
   "outputs": [],
   "source": [
    "sample = np.sort(np.random.exponential(scale = 1, size = 25)) # Генерация выборки"
   ]
  },
  {
   "cell_type": "code",
   "execution_count": 10,
   "id": "779812d5",
   "metadata": {},
   "outputs": [],
   "source": [
    "def count_mode(sample): # Функция подсчёта моды выборки\n",
    "    count = {} \n",
    "    for i in sample:\n",
    "        if i not in count:\n",
    "            count[i] = 0\n",
    "        count[i]+=1\n",
    "    max_count = np.max(list(count.values()))\n",
    "    mode = []\n",
    "    for i in count:\n",
    "        if count[i] == max_count:\n",
    "            mode.append(i)\n",
    "    return mode"
   ]
  },
  {
   "cell_type": "code",
   "execution_count": 12,
   "id": "eb1510c1",
   "metadata": {},
   "outputs": [],
   "source": [
    "def central_moment(sample, k): # Функция подсчёта центрального момента\n",
    "    moment = np.sum(sample**k)/len(sample)\n",
    "    return np.sum((sample - moment)**k)/len(sample)"
   ]
  },
  {
   "cell_type": "code",
   "execution_count": 14,
   "id": "2bcdfb6d",
   "metadata": {},
   "outputs": [],
   "source": [
    "def asimmetry_coefficient(sample): #Функция подсчёта коэффициента асимметрии\n",
    "    return central_moment(sample, 3)/(central_moment(sample, 2) ** (3/2))"
   ]
  },
  {
   "cell_type": "code",
   "execution_count": 16,
   "id": "2afeb4a8",
   "metadata": {},
   "outputs": [
    {
     "name": "stdout",
     "output_type": "stream",
     "text": [
      "Мода:  [0.03480641603823561, 0.05164995428626661, 0.1478634820944365, 0.15017092366347115, 0.15928288417140055, 0.1863638143541607, 0.23086389330519236, 0.2412802061199729, 0.37110846656136903, 0.3830381199891848, 0.4171420369821305, 0.4357318063628787, 0.46322868253761623, 0.5032963880913093, 0.5579667766324438, 0.7625522263539058, 0.996490026906559, 1.1979519788483117, 1.260708629524675, 1.5889702723019712, 1.5958120849459707, 1.905299993964167, 2.3743044583104154, 3.138311348536316, 3.145372536950306]\n",
      "Медиана:  0.46322868253761623\n",
      "Размах:  3.1105661209120705\n",
      "Коэффициент ассиметрии:  -20.81891026084065\n"
     ]
    }
   ],
   "source": [
    "print(\"Мода: \", count_mode(sample))\n",
    "print(\"Медиана: \", np.median(sample))\n",
    "print(\"Размах: \", np.max(sample) - np.min(sample))\n",
    "print(\"Коэффициент ассиметрии: \", asimmetry_coefficient(sample))"
   ]
  },
  {
   "cell_type": "markdown",
   "id": "db33f54b",
   "metadata": {},
   "source": [
    "###### fig = go.Figure() # Эмпирическая функция распределения\n",
    "fig.add_trace(go.Scatter(x=sample, y=np.arange(1, 26)/len(sample), name = \"Оценка\"))\n",
    "fig.add_trace(go.Scatter(x=sample, y= 1 - np.exp(-sample), name = \"Настоящая функция\"))"
   ]
  },
  {
   "cell_type": "code",
   "execution_count": 20,
   "id": "f17a0213",
   "metadata": {},
   "outputs": [],
   "source": [
    "x, y = np.histogram(sample)"
   ]
  },
  {
   "cell_type": "code",
   "execution_count": 25,
   "id": "d3cac9cd",
   "metadata": {},
   "outputs": [
    {
     "data": {
      "image/png": "[encoded data removed]",
      "text/plain": [
       "<Figure size 432x288 with 1 Axes>"
      ]
     },
     "metadata": {
      "needs_background": "light"
     },
     "output_type": "display_data"
    }
   ],
   "source": [
    "plt.hist(y[:-1], y, weights=x/len(sample)) # Гистограмма\n",
    "plt.show()"
   ]
  },
  {
   "cell_type": "code",
   "execution_count": 26,
   "id": "f6f61f67",
   "metadata": {},
   "outputs": [
    {
     "data": {
      "image/png": "[encoded data removed]",
      "text/plain": [
       "<Figure size 432x288 with 1 Axes>"
      ]
     },
     "metadata": {
      "needs_background": "light"
     },
     "output_type": "display_data"
    }
   ],
   "source": [
    "plt.boxplot(sample) # Boxplot\n",
    "plt.show()"
   ]
  },
  {
   "cell_type": "code",
   "execution_count": 27,
   "id": "100c8d68",
   "metadata": {},
   "outputs": [],
   "source": [
    "def bootstrap(sample, function): #реализация метода bootstrap\n",
    "    function_samples = []\n",
    "    for i in range(1000):\n",
    "        new_sample = np.random.choice(sample, len(sample))\n",
    "        function_samples.append(function(new_sample))\n",
    "    return np.sort(function_samples)"
   ]
  },
  {
   "cell_type": "code",
   "execution_count": 28,
   "id": "9f078c0b",
   "metadata": {},
   "outputs": [],
   "source": [
    "x, y = np.histogram(bootstrap(sample, np.mean))"
   ]
  },
  {
   "cell_type": "code",
   "execution_count": 29,
   "id": "d9ebd4f6",
   "metadata": {},
   "outputs": [
    {
     "data": {
      "image/png": "[encoded data removed]",
      "text/plain": [
       "<Figure size 432x288 with 1 Axes>"
      ]
     },
     "metadata": {
      "needs_background": "light"
     },
     "output_type": "display_data"
    }
   ],
   "source": [
    "plt.hist(y[:-1], y, weights=x/1000) #бутстреповская оценка плотности распределения среднего арифметического выборки\n",
    "plt.show()"
   ]
  },
  {
   "cell_type": "code",
   "execution_count": 30,
   "id": "012a5b05",
   "metadata": {},
   "outputs": [],
   "source": [
    "x, y = np.histogram(bootstrap(sample, asimmetry_coefficient))"
   ]
  },
  {
   "cell_type": "code",
   "execution_count": 31,
   "id": "bd0b0695",
   "metadata": {},
   "outputs": [
    {
     "data": {
      "image/png": "[encoded data removed]",
      "text/plain": [
       "<Figure size 432x288 with 1 Axes>"
      ]
     },
     "metadata": {
      "needs_background": "light"
     },
     "output_type": "display_data"
    }
   ],
   "source": [
    "plt.hist(y[:-1], y, weights=x/1000) #бутстреповская оценка плотности распределения коэффициента асимметрии\n",
    "plt.show()"
   ]
  },
  {
   "cell_type": "code",
   "execution_count": null,
   "id": "911a37b7",
   "metadata": {},
   "outputs": [],
   "source": []
  }
 ],
 "metadata": {
  "kernelspec": {
   "display_name": "Python 3 (ipykernel)",
   "language": "python",
   "name": "python3"
  },
  "language_info": {
   "codemirror_mode": {
    "name": "ipython",
    "version": 3
   },
   "file_extension": ".py",
   "mimetype": "text/x-python",
   "name": "python",
   "nbconvert_exporter": "python",
   "pygments_lexer": "ipython3",
   "version": "3.9.12"
  }
 },
 "nbformat": 4,
 "nbformat_minor": 5
}
